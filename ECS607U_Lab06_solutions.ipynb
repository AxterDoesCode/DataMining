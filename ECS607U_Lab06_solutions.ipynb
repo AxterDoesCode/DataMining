{
  "nbformat": 4,
  "nbformat_minor": 0,
  "metadata": {
    "kernelspec": {
      "display_name": "Python 3",
      "language": "python",
      "name": "python3"
    },
    "language_info": {
      "codemirror_mode": {
        "name": "ipython",
        "version": 3
      },
      "file_extension": ".py",
      "mimetype": "text/x-python",
      "name": "python",
      "nbconvert_exporter": "python",
      "pygments_lexer": "ipython3",
      "version": "3.7.4"
    },
    "colab": {
      "provenance": [],
      "collapsed_sections": []
    }
  },
  "cells": [
    {
      "cell_type": "markdown",
      "metadata": {
        "id": "WegGwHz10QEf"
      },
      "source": [
        "# Lab session 6: Association Analysis"
      ]
    },
    {
      "cell_type": "markdown",
      "metadata": {
        "id": "JZUOd9_x0QEg"
      },
      "source": [
        "## Introduction\n",
        "\n",
        "The aim of this lab (Lab session 6) is for students to get experience with **Association Analysis** covered in week 8, by using typical Python libraries.\n",
        "\n",
        "\n",
        "This session starts with a tutorial that uses examples to introduce you to  practical knowledge. We highly recommend that you read the following tutorials if you need a gentler introduction to the libraries that we use:\n",
        "- [Mlxtend: Apriori](http://rasbt.github.io/mlxtend/user_guide/frequent_patterns/apriori/)\n",
        "- [Numpy quickstart tutorial](https://numpy.org/devdocs/user/quickstart.html)\n",
        "- [Numpy: basic broadcasting](https://numpy.org/doc/stable/user/basics.broadcasting.html)\n",
        "- [Pandas](https://pandas.pydata.org/pandas-docs/stable/user_guide/10min.html)\n",
        "- [Matplotlib](https://matplotlib.org/tutorials/introductory/pyplot.html)\n",
        "- [Seaborn](https://seaborn.pydata.org/tutorial/relational.html)\n",
        "- [Scikit-learn](https://scikit-learn.org/stable/tutorial/basic/tutorial.html)"
      ]
    },
    {
      "cell_type": "markdown",
      "metadata": {
        "id": "poBjNRF80QEi"
      },
      "source": [
        "## 1. Frequent itemsets"
      ]
    },
    {
      "cell_type": "markdown",
      "metadata": {
        "id": "K2GJqWCp0QEj"
      },
      "source": [
        "In order to present functionalities for association analysis in Python, we adapt an example from the ``mlxtend`` documentation.\n",
        "\n",
        "Consider a dataset composed of five transactions. This dataset is represented by a list of five elements, each of which is a list of items bought during a trip to a supermarket."
      ]
    },
    {
      "cell_type": "code",
      "metadata": {
        "id": "cfbulGiF0QEj"
      },
      "source": [
        "dataset = [['Milk', 'Onion', 'Nutmeg', 'Kidney Beans', 'Eggs', 'Yogurt'],\n",
        "           ['Dill', 'Onion', 'Nutmeg', 'Kidney Beans', 'Eggs', 'Yogurt'],\n",
        "           ['Milk', 'Apple', 'Kidney Beans', 'Eggs'],\n",
        "           ['Milk', 'Unicorn', 'Corn', 'Kidney Beans', 'Yogurt'],\n",
        "           ['Corn', 'Onion', 'Onion', 'Kidney Beans', 'Ice cream', 'Eggs']]"
      ],
      "execution_count": 40,
      "outputs": []
    },
    {
      "cell_type": "markdown",
      "metadata": {
        "id": "VbaY6ZDN0QEj"
      },
      "source": [
        "The library ``mlxtend`` requires that each transaction is represented by a binary vector where each element indicates the presence or absence of a specific item.\n",
        "\n",
        "The method ``TransactionEncoder.fit_transform`` can be used to convert the dataset created above into this expected format. This method returns a binary matrix (numpy array) where each transaction corresponds to a row and each column corresponds to an item."
      ]
    },
    {
      "cell_type": "code",
      "metadata": {
        "id": "UVRaQhnB0QEk"
      },
      "source": [
        "from mlxtend.preprocessing import TransactionEncoder\n",
        "\n",
        "te = TransactionEncoder()\n",
        "te_ary = te.fit_transform(dataset)\n",
        "print(te_ary)"
      ],
      "execution_count": null,
      "outputs": []
    },
    {
      "cell_type": "markdown",
      "metadata": {
        "id": "fwX4i0H50QEk"
      },
      "source": [
        "The item corresponding to each column is stored by the ``TransactionEncoder`` object in a variable called ``columns_``. This variable can be used to create a ``DataFrame`` that conveniently represents the transaction dataset."
      ]
    },
    {
      "cell_type": "code",
      "metadata": {
        "id": "EaJVGL2P0QEk"
      },
      "source": [
        "import pandas as pd\n",
        "\n",
        "df = pd.DataFrame(te_ary, columns=te.columns_)\n",
        "display(df)"
      ],
      "execution_count": null,
      "outputs": []
    },
    {
      "cell_type": "markdown",
      "metadata": {
        "id": "gIY7Qi5j0QEl"
      },
      "source": [
        "The ``mlxtend`` function ``apriori`` receives a ``DataFrame`` that represents a transaction dataset and a parameter that specifies the support threshold. This function returns a ``DataFrame`` that contains one row for each frequent itemset. Each row contains a python ``frozenset`` that represents the itemset (by column indices) and a number that represents the support of this itemset."
      ]
    },
    {
      "cell_type": "code",
      "metadata": {
        "id": "_44Ffbfg0QEm"
      },
      "source": [
        "from mlxtend.frequent_patterns import apriori\n",
        "\n",
        "frequent_itemsets = apriori(df, min_support=0.6)\n",
        "display(frequent_itemsets)\n",
        "\n",
        "itemset = frequent_itemsets.loc[5]\n",
        "print('Itemset: {0}. Support: {1}.'.format(itemset['itemsets'], itemset['support']))"
      ],
      "execution_count": null,
      "outputs": []
    },
    {
      "cell_type": "markdown",
      "metadata": {
        "id": "X8cwFrys0QEm"
      },
      "source": [
        "Conveniently, if the parameter ``use_colnames`` is set to ``True``,  the ``mlxtend`` function ``apriori`` may instead return a ``DataFrame`` that represents itemsets by ``frozensets`` of item names."
      ]
    },
    {
      "cell_type": "code",
      "metadata": {
        "id": "lR2yUWTT0QEn"
      },
      "source": [
        "frequent_itemsets = apriori(df, min_support=0.6, use_colnames=True)\n",
        "display(frequent_itemsets)"
      ],
      "execution_count": null,
      "outputs": []
    },
    {
      "cell_type": "markdown",
      "metadata": {
        "id": "--cxPvfs0QEn"
      },
      "source": [
        "Using typical ``pandas`` functionalities, it is easy to include a column in such a ``DataFrame`` to register the number of items in each frequent itemset, which can be used to filter itemsets by length."
      ]
    },
    {
      "cell_type": "code",
      "metadata": {
        "id": "G5tvWSmD0QEo"
      },
      "source": [
        "frequent_itemsets['length'] = frequent_itemsets['itemsets'].apply(lambda x: len(x)) # length of each frozenset\n",
        "print('Frequent 3-itemsets:')\n",
        "display(frequent_itemsets[frequent_itemsets['length'] == 3])"
      ],
      "execution_count": null,
      "outputs": []
    },
    {
      "cell_type": "markdown",
      "metadata": {
        "id": "zSdsp-q80QEo"
      },
      "source": [
        "It is also easy to create a ``dict`` that maps any frequent itemset (represented by a ``frozenset``) to its support."
      ]
    },
    {
      "cell_type": "code",
      "metadata": {
        "id": "hjKQLrej0QEo"
      },
      "source": [
        "support = {}\n",
        "for _, row in frequent_itemsets.iterrows():\n",
        "    support[row['itemsets']] = row['support']\n",
        "\n",
        "itemset = frozenset(['Onion', 'Eggs'])\n",
        "print('Itemset: {0}. Support: {1}.'.format(itemset, support[itemset]))"
      ],
      "execution_count": null,
      "outputs": []
    },
    {
      "cell_type": "markdown",
      "metadata": {
        "id": "cDnGEz1z0QEo"
      },
      "source": [
        "## 2. Association rules"
      ]
    },
    {
      "cell_type": "markdown",
      "metadata": {
        "id": "2Bb-Ohe70QEp"
      },
      "source": [
        "The ``mlxtend`` function ``association_rules`` receives a ``DataFrame`` that represents the set of frequent itemsets and returns a ``DataFrame`` that represents strong association rules for a specified confidence threshold. Each row in the resulting  ``DataFrame`` contains an association rule together with some potentially useful measures (we have not covered lift, leverage, or conviction). "
      ]
    },
    {
      "cell_type": "code",
      "metadata": {
        "id": "xCAnce4q0QEp"
      },
      "source": [
        "from mlxtend.frequent_patterns import association_rules\n",
        "\n",
        "strong_rules = association_rules(frequent_itemsets, metric=\"confidence\", min_threshold=0.7)\n",
        "display(strong_rules)"
      ],
      "execution_count": null,
      "outputs": []
    },
    {
      "cell_type": "markdown",
      "source": [
        "## Exercise\n",
        "\n"
      ],
      "metadata": {
        "id": "4IDliL4-8jmW"
      }
    },
    {
      "cell_type": "markdown",
      "source": [
        "The sample dataset to be used is one of Kaggle’s e-commerce resources containing historical sales transactions of electronic items. The dataset can be found in QM+.\n",
        "\n",
        "The tasks to be completed for this exercise are:\n",
        "\n",
        "1) Import the dataset </br>\n",
        "2) Keep only the columns: 'Order ID', 'Product' </br>\n",
        "3) Reset the index of the dataframe </br>\n",
        "4) Use the following command for structuring the dataframe into a form/format for analysis: </br> pivot_table(index = 'Order ID', columns = 'Product', aggfunc = 'count') </br>\n",
        "5) Check the resulting dataframe and perform a necessary pre-processing technique </br>\n",
        "6) Convert the columns to boolean </br>\n",
        "7) Identify the support frequency of items </br>\n",
        "The support frequency is the number of times any individual item is sold (here we only count each item once per order) divided by the total number of transactions (or orders in this example). Which are the top-5 most frequent selling items? Can this insight help a retailer also boost the sales of less frequent selling items by pairing them with these high frequency lower cost electronic goods? Which products would make sense to pair together given this insight? </br>\n",
        "8) Run the apriori algorithm from mlxtend </br>\n",
        "9) Compute items that sell at minimum in a percentage of all orders placed in the month (e.g. try min_support=0.00000001) </br>\n",
        "10) Compute pairs of orders that have a meaningful measure (e.g lift of more than 1; confidence of more than 0.1) in their sales when marketed together\n",
        "\n",
        "\n",
        "\n"
      ],
      "metadata": {
        "id": "8XDFXDnR_ae6"
      }
    },
    {
      "cell_type": "code",
      "source": [
        "import numpy as np\n",
        "\n",
        "# import dataset\n",
        "sales_april = pd.read_csv('Sales_April_2019.csv')\n",
        "\n",
        "print('Total item sales (ignoring quanitities)')\n",
        "print(len(sales_april))\n",
        "print('Total orders')\n",
        "print(len(sales_april['Order ID'].value_counts()))\n",
        "print('Total unique products')\n",
        "print(len(sales_april['Product'].value_counts()))\n",
        "\n",
        "\n",
        "#Restructure the dataset to keep one column per product\n",
        "sales_filter = sales_april[['Order ID', 'Product']] #Ignore date and purchase address for now\n",
        "sales_filter = sales_filter.reset_index()\n",
        "\n",
        "df_orders = sales_filter.pivot_table(index = 'Order ID', columns = 'Product', aggfunc = 'count')\n",
        "#Fill null values in the dataframe\n",
        "df_orders = df_orders.fillna(0)\n",
        "\n",
        "#Convert df orders columns to boolean\n",
        "col_names = df_orders.columns\n",
        "df_orders = df_orders[col_names].astype('bool')\n",
        "\n",
        "df_orders.mean().sort_values(ascending=False).plot(kind='bar')\n",
        "\n",
        "#Run the apriori algorithm from mlxtend \n",
        "from mlxtend.frequent_patterns import association_rules\n",
        "from mlxtend.frequent_patterns import apriori\n",
        "\n",
        "#Compute items that sell at minimum in 0.001% of all orders placed in the month (min_support)\n",
        "frequent_itemsets = apriori(df_orders, min_support = 0.00000001,max_len = 2, use_colnames = True)\n",
        "\n",
        "#Compute pairs of orders that have a meaningful e.g. lift/confidence of more than 1/0.1 in their sales when marketed together\n",
        "frequent_itemsets_rules = association_rules(frequent_itemsets,metric = \"confidence\", min_threshold = 0.1)\n",
        "display(frequent_itemsets_rules)\n"
      ],
      "metadata": {
        "colab": {
          "base_uri": "https://localhost:8080/",
          "height": 809
        },
        "id": "-6qQ9Bd89vxl",
        "outputId": "f1bbd4e3-c56d-496c-f82c-2c540442ca91"
      },
      "execution_count": 56,
      "outputs": [
        {
          "output_type": "stream",
          "name": "stdout",
          "text": [
            "Total item sales (ignoring quanitities)\n",
            "18383\n",
            "Total orders\n",
            "17538\n",
            "Total unique products\n",
            "20\n"
          ]
        },
        {
          "output_type": "display_data",
          "data": {
            "text/plain": [
              "                  antecedents                          consequents  \\\n",
              "0     ((index, Google Phone))      ((index, USB-C Charging Cable))   \n",
              "1           ((index, iPhone))  ((index, Lightning Charging Cable))   \n",
              "2  ((index, Vareebadd Phone))      ((index, USB-C Charging Cable))   \n",
              "\n",
              "   antecedent support  consequent support   support  confidence      lift  \\\n",
              "0            0.033128            0.118315  0.005987    0.180723  1.527479   \n",
              "1            0.039514            0.125157  0.005987    0.151515  1.210603   \n",
              "2            0.012544            0.118315  0.002167    0.172727  1.459899   \n",
              "\n",
              "   leverage  conviction  \n",
              "0  0.002067    1.076175  \n",
              "1  0.001042    1.031065  \n",
              "2  0.000683    1.065774  "
            ],
            "text/html": [
              "\n",
              "  <div id=\"df-bfcb5377-4138-417d-a395-49219bc1fcc3\">\n",
              "    <div class=\"colab-df-container\">\n",
              "      <div>\n",
              "<style scoped>\n",
              "    .dataframe tbody tr th:only-of-type {\n",
              "        vertical-align: middle;\n",
              "    }\n",
              "\n",
              "    .dataframe tbody tr th {\n",
              "        vertical-align: top;\n",
              "    }\n",
              "\n",
              "    .dataframe thead th {\n",
              "        text-align: right;\n",
              "    }\n",
              "</style>\n",
              "<table border=\"1\" class=\"dataframe\">\n",
              "  <thead>\n",
              "    <tr style=\"text-align: right;\">\n",
              "      <th></th>\n",
              "      <th>antecedents</th>\n",
              "      <th>consequents</th>\n",
              "      <th>antecedent support</th>\n",
              "      <th>consequent support</th>\n",
              "      <th>support</th>\n",
              "      <th>confidence</th>\n",
              "      <th>lift</th>\n",
              "      <th>leverage</th>\n",
              "      <th>conviction</th>\n",
              "    </tr>\n",
              "  </thead>\n",
              "  <tbody>\n",
              "    <tr>\n",
              "      <th>0</th>\n",
              "      <td>((index, Google Phone))</td>\n",
              "      <td>((index, USB-C Charging Cable))</td>\n",
              "      <td>0.033128</td>\n",
              "      <td>0.118315</td>\n",
              "      <td>0.005987</td>\n",
              "      <td>0.180723</td>\n",
              "      <td>1.527479</td>\n",
              "      <td>0.002067</td>\n",
              "      <td>1.076175</td>\n",
              "    </tr>\n",
              "    <tr>\n",
              "      <th>1</th>\n",
              "      <td>((index, iPhone))</td>\n",
              "      <td>((index, Lightning Charging Cable))</td>\n",
              "      <td>0.039514</td>\n",
              "      <td>0.125157</td>\n",
              "      <td>0.005987</td>\n",
              "      <td>0.151515</td>\n",
              "      <td>1.210603</td>\n",
              "      <td>0.001042</td>\n",
              "      <td>1.031065</td>\n",
              "    </tr>\n",
              "    <tr>\n",
              "      <th>2</th>\n",
              "      <td>((index, Vareebadd Phone))</td>\n",
              "      <td>((index, USB-C Charging Cable))</td>\n",
              "      <td>0.012544</td>\n",
              "      <td>0.118315</td>\n",
              "      <td>0.002167</td>\n",
              "      <td>0.172727</td>\n",
              "      <td>1.459899</td>\n",
              "      <td>0.000683</td>\n",
              "      <td>1.065774</td>\n",
              "    </tr>\n",
              "  </tbody>\n",
              "</table>\n",
              "</div>\n",
              "      <button class=\"colab-df-convert\" onclick=\"convertToInteractive('df-bfcb5377-4138-417d-a395-49219bc1fcc3')\"\n",
              "              title=\"Convert this dataframe to an interactive table.\"\n",
              "              style=\"display:none;\">\n",
              "        \n",
              "  <svg xmlns=\"http://www.w3.org/2000/svg\" height=\"24px\"viewBox=\"0 0 24 24\"\n",
              "       width=\"24px\">\n",
              "    <path d=\"M0 0h24v24H0V0z\" fill=\"none\"/>\n",
              "    <path d=\"M18.56 5.44l.94 2.06.94-2.06 2.06-.94-2.06-.94-.94-2.06-.94 2.06-2.06.94zm-11 1L8.5 8.5l.94-2.06 2.06-.94-2.06-.94L8.5 2.5l-.94 2.06-2.06.94zm10 10l.94 2.06.94-2.06 2.06-.94-2.06-.94-.94-2.06-.94 2.06-2.06.94z\"/><path d=\"M17.41 7.96l-1.37-1.37c-.4-.4-.92-.59-1.43-.59-.52 0-1.04.2-1.43.59L10.3 9.45l-7.72 7.72c-.78.78-.78 2.05 0 2.83L4 21.41c.39.39.9.59 1.41.59.51 0 1.02-.2 1.41-.59l7.78-7.78 2.81-2.81c.8-.78.8-2.07 0-2.86zM5.41 20L4 18.59l7.72-7.72 1.47 1.35L5.41 20z\"/>\n",
              "  </svg>\n",
              "      </button>\n",
              "      \n",
              "  <style>\n",
              "    .colab-df-container {\n",
              "      display:flex;\n",
              "      flex-wrap:wrap;\n",
              "      gap: 12px;\n",
              "    }\n",
              "\n",
              "    .colab-df-convert {\n",
              "      background-color: #E8F0FE;\n",
              "      border: none;\n",
              "      border-radius: 50%;\n",
              "      cursor: pointer;\n",
              "      display: none;\n",
              "      fill: #1967D2;\n",
              "      height: 32px;\n",
              "      padding: 0 0 0 0;\n",
              "      width: 32px;\n",
              "    }\n",
              "\n",
              "    .colab-df-convert:hover {\n",
              "      background-color: #E2EBFA;\n",
              "      box-shadow: 0px 1px 2px rgba(60, 64, 67, 0.3), 0px 1px 3px 1px rgba(60, 64, 67, 0.15);\n",
              "      fill: #174EA6;\n",
              "    }\n",
              "\n",
              "    [theme=dark] .colab-df-convert {\n",
              "      background-color: #3B4455;\n",
              "      fill: #D2E3FC;\n",
              "    }\n",
              "\n",
              "    [theme=dark] .colab-df-convert:hover {\n",
              "      background-color: #434B5C;\n",
              "      box-shadow: 0px 1px 3px 1px rgba(0, 0, 0, 0.15);\n",
              "      filter: drop-shadow(0px 1px 2px rgba(0, 0, 0, 0.3));\n",
              "      fill: #FFFFFF;\n",
              "    }\n",
              "  </style>\n",
              "\n",
              "      <script>\n",
              "        const buttonEl =\n",
              "          document.querySelector('#df-bfcb5377-4138-417d-a395-49219bc1fcc3 button.colab-df-convert');\n",
              "        buttonEl.style.display =\n",
              "          google.colab.kernel.accessAllowed ? 'block' : 'none';\n",
              "\n",
              "        async function convertToInteractive(key) {\n",
              "          const element = document.querySelector('#df-bfcb5377-4138-417d-a395-49219bc1fcc3');\n",
              "          const dataTable =\n",
              "            await google.colab.kernel.invokeFunction('convertToInteractive',\n",
              "                                                     [key], {});\n",
              "          if (!dataTable) return;\n",
              "\n",
              "          const docLinkHtml = 'Like what you see? Visit the ' +\n",
              "            '<a target=\"_blank\" href=https://colab.research.google.com/notebooks/data_table.ipynb>data table notebook</a>'\n",
              "            + ' to learn more about interactive tables.';\n",
              "          element.innerHTML = '';\n",
              "          dataTable['output_type'] = 'display_data';\n",
              "          await google.colab.output.renderOutput(dataTable, element);\n",
              "          const docLink = document.createElement('div');\n",
              "          docLink.innerHTML = docLinkHtml;\n",
              "          element.appendChild(docLink);\n",
              "        }\n",
              "      </script>\n",
              "    </div>\n",
              "  </div>\n",
              "  "
            ]
          },
          "metadata": {}
        },
        {
          "output_type": "display_data",
          "data": {
            "text/plain": [
              "<Figure size 432x288 with 1 Axes>"
            ],
            "image/png": "[encoded data removed]"
          },
          "metadata": {
            "needs_background": "light"
          }
        }
      ]
    }
  ]
}